{
 "cells": [
  {
   "cell_type": "markdown",
   "metadata": {},
   "source": [
    "# N-Queens demo"
   ]
  },
  {
   "cell_type": "markdown",
   "metadata": {},
   "source": [
    "**Problem setup**\n",
    "\n",
    "Each queen gets a set of coordinates than spans all rows in a single column.  This effectively enforces a constraint that queens cannot be in the same row, and reduces computation time."
   ]
  },
  {
   "cell_type": "code",
   "execution_count": null,
   "metadata": {
    "scrolled": true
   },
   "outputs": [],
   "source": [
    "from constraint import *\n",
    "problem = Problem()\n",
    "board_size = 8\n",
    "queen_list = range(board_size)\n",
    "# enforce different columns by restricting each queen to only move within 1 column.\n",
    "coord_list = [[(x,y) for y in range(board_size)] for x in range(board_size)]"
   ]
  },
  {
   "cell_type": "code",
   "execution_count": null,
   "metadata": {
    "scrolled": true
   },
   "outputs": [],
   "source": [
    "for q in queen_list:\n",
    "    print(\"Queen\" + str(q) + \": \" + str(coord_list[q]))"
   ]
  },
  {
   "cell_type": "markdown",
   "metadata": {},
   "source": [
    "`addVariable(variable, domain)` takes a variable label, and the allowed domain of values"
   ]
  },
  {
   "cell_type": "code",
   "execution_count": null,
   "metadata": {
    "scrolled": true
   },
   "outputs": [],
   "source": [
    "for q,c in zip(queen_list, coord_list):\n",
    "    problem.addVariable(q, c)"
   ]
  },
  {
   "cell_type": "markdown",
   "metadata": {},
   "source": [
    "Here we add constraints for the solver to use.  \n",
    "\n",
    "Queens $Q_1: (x_1, y_1), Q_2: (x_2, y_2)$ can attack each other diagonally if $|x_1 - x_2| = |y_1 - y_2|$"
   ]
  },
  {
   "cell_type": "code",
   "execution_count": null,
   "metadata": {
    "scrolled": true
   },
   "outputs": [],
   "source": [
    "for queen_1 in queen_list:\n",
    "    for queen_2 in queen_list:\n",
    "        # constraints compare every queen to every other queen.  \n",
    "        # Because attacking relationships are bi-directional, one can eliminate some comparisons.\n",
    "        if queen_1 < queen_2:\n",
    "            # must be in different rows\n",
    "            problem.addConstraint(lambda q1, q2: q1[1] != q2[1], (queen_1, queen_2))\n",
    "            # cannot be diagonal\n",
    "            problem.addConstraint(lambda q1, q2: abs(q1[0]-q2[0]) != abs(q1[1]-q2[1]), (queen_1, queen_2))"
   ]
  },
  {
   "cell_type": "markdown",
   "metadata": {},
   "source": [
    "Make `python-constraint` do all the hard work!\n",
    "The type of solver is specified when you create a `Problem` instance. It defaults to a backtracking solver with forward-checking enabled."
   ]
  },
  {
   "cell_type": "code",
   "execution_count": null,
   "metadata": {
    "scrolled": true
   },
   "outputs": [],
   "source": [
    "solutions = problem.getSolutions()"
   ]
  },
  {
   "cell_type": "markdown",
   "metadata": {},
   "source": [
    "`getSolutions` returns `list[dictionary{variable:value}]`.  Each `dict` element is a valid solution."
   ]
  },
  {
   "cell_type": "code",
   "execution_count": null,
   "metadata": {
    "scrolled": true
   },
   "outputs": [],
   "source": [
    "solutions[0]"
   ]
  },
  {
   "cell_type": "code",
   "execution_count": null,
   "metadata": {
    "scrolled": true
   },
   "outputs": [],
   "source": [
    "def print_horiz_line():\n",
    "    print(\" ---\" * board_size)\n",
    "\n",
    "def print_solution(s):\n",
    "    for y in range(board_size):\n",
    "        print_horiz_line()\n",
    "        for x in range(board_size):\n",
    "            cell = \"|   \"\n",
    "            for c in s.values():\n",
    "                if c == (x,y):\n",
    "                    cell = f\"| Q \"\n",
    "                    break\n",
    "            print(cell, end='')\n",
    "        print(\"|   \")\n",
    "    print_horiz_line()"
   ]
  },
  {
   "cell_type": "code",
   "execution_count": null,
   "metadata": {
    "scrolled": true
   },
   "outputs": [],
   "source": [
    "print_solution(solutions[0])"
   ]
  },
  {
   "cell_type": "code",
   "execution_count": null,
   "metadata": {
    "scrolled": false
   },
   "outputs": [],
   "source": [
    "for i,s in enumerate(solutions):\n",
    "    print(f\"\\n\\nSolution {i+1}\")\n",
    "    print_solution(s)\n"
   ]
  }
 ],
 "metadata": {
  "kernelspec": {
   "display_name": "Python 3",
   "language": "python",
   "name": "python3"
  },
  "language_info": {
   "codemirror_mode": {
    "name": "ipython",
    "version": 3
   },
   "file_extension": ".py",
   "mimetype": "text/x-python",
   "name": "python",
   "nbconvert_exporter": "python",
   "pygments_lexer": "ipython3",
   "version": "3.6.4"
  }
 },
 "nbformat": 4,
 "nbformat_minor": 2
}
